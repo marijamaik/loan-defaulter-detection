{
 "cells": [
  {
   "cell_type": "markdown",
   "metadata": {
    "id": "1_iHEvciuTB9"
   },
   "source": [
    "# **Loan Default Prediction**"
   ]
  },
  {
   "cell_type": "markdown",
   "metadata": {},
   "source": [
    "## **Executive summary**\n",
    "\n",
    "Giving out loans is challenging for banks because of loan default risk. This can have a big effect on financial losses, so identifying clients who default on loans would minimize that risk. In this project, our goal was to build a predictive classification model that identifies defaulters, minimizes loan default risk and ensures bank compliance with the Equal Credit Opportunity Act.\n",
    "\n",
    "We performed data preprocessing, modelling, and evaluation to create a classification machine learning model that will reduce default risk and help the bank make better decisions when it comes to approving loans. We performed univariate, bivariate, and multivariate analyses to visualise the data. For data preprocessing, we treated outliers and missing values.\n",
    "\n",
    "The machine learning models were created using a split of test and training data of 30% and 70% respectively. We created a logistic regression model, a decision tree model, a tuned decision tree model, a random forest model and a tuned random forest model. The models were tuned using GridSearchCV.\n",
    "\n",
    "The important findings from the analysis reveal that 20% of applicants default on their loans, indicating a significant class imbalance. Key features that influence default risk include the debt-to-income ratio, the number of delinquent credit lines, and the age of credit inquiries. The purpose of the loan also plays a substantial role, with debt consolidation being the most common purpose.\n",
    "\n",
    "The proposed model focuses on maximizing recall to ensure that defaulters are identified, even at the cost of some precision. A tuned decision tree model was selected because its recall is the highest of all of the models, 76% of defaulters. Despite other models such as random forest, achieving higher accuracy, this model provides the best recall, making it suitable for predicting defaults while minimizing financial risks for the bank.\n",
    "\n",
    "To improve the recall and accuracy further, further fine-tuning of the model could be implemented, such as pruning the tree to prevent overfitting. Additionally, the performance needs to be monitored after deployment to ensure good performance and adjust the solution as needed. If we consider that in real life the datasets are usually larger, we should think about scaling our solution to ensure it can handle large data."
   ]
  },
  {
   "cell_type": "markdown",
   "metadata": {
    "id": "DcZcGaZruTB-"
   },
   "source": [
    "## **Import the necessary libraries and Data**"
   ]
  },
  {
   "cell_type": "code",
   "execution_count": 184,
   "metadata": {
    "id": "pvj9AGJtuTB_"
   },
   "outputs": [],
   "source": [
    "\t\n",
    "# Import libraries for reading, visualizing and manipulating data\n",
    "import pandas as pd\n",
    "import numpy as np\n",
    "import matplotlib.pyplot as plt\n",
    "import seaborn as sns\n",
    "\n",
    "# Library to split data\n",
    "from sklearn.model_selection import train_test_split\n",
    "\n",
    "# Logistic Regression\n",
    "from sklearn.linear_model import LogisticRegression\n",
    "\n",
    "# Decision tree, Random Forest algorithms\n",
    "from sklearn.tree import DecisionTreeClassifier\n",
    "from sklearn import tree\n",
    "from sklearn.ensemble import RandomForestClassifier\n",
    "\n",
    "# Model performance evaluation imports\n",
    "from sklearn.metrics import confusion_matrix, classification_report, precision_score, f1_score, recall_score, accuracy_score\n",
    "from sklearn import metrics\n",
    "\n",
    "# Hyperparameter tuning imports\n",
    "from sklearn.model_selection import GridSearchCV"
   ]
  },
  {
   "cell_type": "markdown",
   "metadata": {
    "id": "za7znZ1cBZtg"
   },
   "source": [
    "<b>Reading the dataset</b>"
   ]
  },
  {
   "cell_type": "code",
   "execution_count": 185,
   "metadata": {},
   "outputs": [],
   "source": [
    "# Read the data\n",
    "lead = pd.read_csv('/Users/marija/Documents/MIT Data Science 24\\'/Capstone Project/Milestone Project/hmeq.csv')"
   ]
  },
  {
   "cell_type": "code",
   "execution_count": 186,
   "metadata": {},
   "outputs": [],
   "source": [
    "# Copy the data in a new variable\n",
    "df = lead.copy()"
   ]
  },
  {
   "cell_type": "markdown",
   "metadata": {},
   "source": [
    "<b>Understanding the shape of the dataset</b>"
   ]
  },
  {
   "cell_type": "code",
   "execution_count": 187,
   "metadata": {},
   "outputs": [
    {
     "name": "stdout",
     "output_type": "stream",
     "text": [
      "(5960, 13)\n"
     ]
    }
   ],
   "source": [
    "# Calculate the number of rows and columns\n",
    "dimensions = df.shape\n",
    "# Print how many rows and columns are in the database\n",
    "print(dimensions)"
   ]
  },
  {
   "cell_type": "markdown",
   "metadata": {},
   "source": [
    "<b>Observations:</b>\n",
    "- The number of rows in the database is 5960 and the number of columns is 13."
   ]
  },
  {
   "cell_type": "markdown",
   "metadata": {},
   "source": [
    "<b>Getting first and last 5 rows</b>"
   ]
  },
  {
   "cell_type": "code",
   "execution_count": 188,
   "metadata": {},
   "outputs": [
    {
     "data": {
      "text/html": [
       "<div>\n",
       "<style scoped>\n",
       "    .dataframe tbody tr th:only-of-type {\n",
       "        vertical-align: middle;\n",
       "    }\n",
       "\n",
       "    .dataframe tbody tr th {\n",
       "        vertical-align: top;\n",
       "    }\n",
       "\n",
       "    .dataframe thead th {\n",
       "        text-align: right;\n",
       "    }\n",
       "</style>\n",
       "<table border=\"1\" class=\"dataframe\">\n",
       "  <thead>\n",
       "    <tr style=\"text-align: right;\">\n",
       "      <th></th>\n",
       "      <th>BAD</th>\n",
       "      <th>LOAN</th>\n",
       "      <th>MORTDUE</th>\n",
       "      <th>VALUE</th>\n",
       "      <th>REASON</th>\n",
       "      <th>JOB</th>\n",
       "      <th>YOJ</th>\n",
       "      <th>DEROG</th>\n",
       "      <th>DELINQ</th>\n",
       "      <th>CLAGE</th>\n",
       "      <th>NINQ</th>\n",
       "      <th>CLNO</th>\n",
       "      <th>DEBTINC</th>\n",
       "    </tr>\n",
       "  </thead>\n",
       "  <tbody>\n",
       "    <tr>\n",
       "      <th>0</th>\n",
       "      <td>1</td>\n",
       "      <td>1100</td>\n",
       "      <td>25860.0</td>\n",
       "      <td>39025.0</td>\n",
       "      <td>HomeImp</td>\n",
       "      <td>Other</td>\n",
       "      <td>10.5</td>\n",
       "      <td>0.0</td>\n",
       "      <td>0.0</td>\n",
       "      <td>94.366667</td>\n",
       "      <td>1.0</td>\n",
       "      <td>9.0</td>\n",
       "      <td>NaN</td>\n",
       "    </tr>\n",
       "    <tr>\n",
       "      <th>1</th>\n",
       "      <td>1</td>\n",
       "      <td>1300</td>\n",
       "      <td>70053.0</td>\n",
       "      <td>68400.0</td>\n",
       "      <td>HomeImp</td>\n",
       "      <td>Other</td>\n",
       "      <td>7.0</td>\n",
       "      <td>0.0</td>\n",
       "      <td>2.0</td>\n",
       "      <td>121.833333</td>\n",
       "      <td>0.0</td>\n",
       "      <td>14.0</td>\n",
       "      <td>NaN</td>\n",
       "    </tr>\n",
       "    <tr>\n",
       "      <th>2</th>\n",
       "      <td>1</td>\n",
       "      <td>1500</td>\n",
       "      <td>13500.0</td>\n",
       "      <td>16700.0</td>\n",
       "      <td>HomeImp</td>\n",
       "      <td>Other</td>\n",
       "      <td>4.0</td>\n",
       "      <td>0.0</td>\n",
       "      <td>0.0</td>\n",
       "      <td>149.466667</td>\n",
       "      <td>1.0</td>\n",
       "      <td>10.0</td>\n",
       "      <td>NaN</td>\n",
       "    </tr>\n",
       "    <tr>\n",
       "      <th>3</th>\n",
       "      <td>1</td>\n",
       "      <td>1500</td>\n",
       "      <td>NaN</td>\n",
       "      <td>NaN</td>\n",
       "      <td>NaN</td>\n",
       "      <td>NaN</td>\n",
       "      <td>NaN</td>\n",
       "      <td>NaN</td>\n",
       "      <td>NaN</td>\n",
       "      <td>NaN</td>\n",
       "      <td>NaN</td>\n",
       "      <td>NaN</td>\n",
       "      <td>NaN</td>\n",
       "    </tr>\n",
       "    <tr>\n",
       "      <th>4</th>\n",
       "      <td>0</td>\n",
       "      <td>1700</td>\n",
       "      <td>97800.0</td>\n",
       "      <td>112000.0</td>\n",
       "      <td>HomeImp</td>\n",
       "      <td>Office</td>\n",
       "      <td>3.0</td>\n",
       "      <td>0.0</td>\n",
       "      <td>0.0</td>\n",
       "      <td>93.333333</td>\n",
       "      <td>0.0</td>\n",
       "      <td>14.0</td>\n",
       "      <td>NaN</td>\n",
       "    </tr>\n",
       "  </tbody>\n",
       "</table>\n",
       "</div>"
      ],
      "text/plain": [
       "   BAD  LOAN  MORTDUE     VALUE   REASON     JOB   YOJ  DEROG  DELINQ  \\\n",
       "0    1  1100  25860.0   39025.0  HomeImp   Other  10.5    0.0     0.0   \n",
       "1    1  1300  70053.0   68400.0  HomeImp   Other   7.0    0.0     2.0   \n",
       "2    1  1500  13500.0   16700.0  HomeImp   Other   4.0    0.0     0.0   \n",
       "3    1  1500      NaN       NaN      NaN     NaN   NaN    NaN     NaN   \n",
       "4    0  1700  97800.0  112000.0  HomeImp  Office   3.0    0.0     0.0   \n",
       "\n",
       "        CLAGE  NINQ  CLNO  DEBTINC  \n",
       "0   94.366667   1.0   9.0      NaN  \n",
       "1  121.833333   0.0  14.0      NaN  \n",
       "2  149.466667   1.0  10.0      NaN  \n",
       "3         NaN   NaN   NaN      NaN  \n",
       "4   93.333333   0.0  14.0      NaN  "
      ]
     },
     "execution_count": 188,
     "metadata": {},
     "output_type": "execute_result"
    }
   ],
   "source": [
    "# Returns the first 5 rows\n",
    "df.head()"
   ]
  },
  {
   "cell_type": "code",
   "execution_count": 189,
   "metadata": {},
   "outputs": [
    {
     "data": {
      "text/html": [
       "<div>\n",
       "<style scoped>\n",
       "    .dataframe tbody tr th:only-of-type {\n",
       "        vertical-align: middle;\n",
       "    }\n",
       "\n",
       "    .dataframe tbody tr th {\n",
       "        vertical-align: top;\n",
       "    }\n",
       "\n",
       "    .dataframe thead th {\n",
       "        text-align: right;\n",
       "    }\n",
       "</style>\n",
       "<table border=\"1\" class=\"dataframe\">\n",
       "  <thead>\n",
       "    <tr style=\"text-align: right;\">\n",
       "      <th></th>\n",
       "      <th>BAD</th>\n",
       "      <th>LOAN</th>\n",
       "      <th>MORTDUE</th>\n",
       "      <th>VALUE</th>\n",
       "      <th>REASON</th>\n",
       "      <th>JOB</th>\n",
       "      <th>YOJ</th>\n",
       "      <th>DEROG</th>\n",
       "      <th>DELINQ</th>\n",
       "      <th>CLAGE</th>\n",
       "      <th>NINQ</th>\n",
       "      <th>CLNO</th>\n",
       "      <th>DEBTINC</th>\n",
       "    </tr>\n",
       "  </thead>\n",
       "  <tbody>\n",
       "    <tr>\n",
       "      <th>5955</th>\n",
       "      <td>0</td>\n",
       "      <td>88900</td>\n",
       "      <td>57264.0</td>\n",
       "      <td>90185.0</td>\n",
       "      <td>DebtCon</td>\n",
       "      <td>Other</td>\n",
       "      <td>16.0</td>\n",
       "      <td>0.0</td>\n",
       "      <td>0.0</td>\n",
       "      <td>221.808718</td>\n",
       "      <td>0.0</td>\n",
       "      <td>16.0</td>\n",
       "      <td>36.112347</td>\n",
       "    </tr>\n",
       "    <tr>\n",
       "      <th>5956</th>\n",
       "      <td>0</td>\n",
       "      <td>89000</td>\n",
       "      <td>54576.0</td>\n",
       "      <td>92937.0</td>\n",
       "      <td>DebtCon</td>\n",
       "      <td>Other</td>\n",
       "      <td>16.0</td>\n",
       "      <td>0.0</td>\n",
       "      <td>0.0</td>\n",
       "      <td>208.692070</td>\n",
       "      <td>0.0</td>\n",
       "      <td>15.0</td>\n",
       "      <td>35.859971</td>\n",
       "    </tr>\n",
       "    <tr>\n",
       "      <th>5957</th>\n",
       "      <td>0</td>\n",
       "      <td>89200</td>\n",
       "      <td>54045.0</td>\n",
       "      <td>92924.0</td>\n",
       "      <td>DebtCon</td>\n",
       "      <td>Other</td>\n",
       "      <td>15.0</td>\n",
       "      <td>0.0</td>\n",
       "      <td>0.0</td>\n",
       "      <td>212.279697</td>\n",
       "      <td>0.0</td>\n",
       "      <td>15.0</td>\n",
       "      <td>35.556590</td>\n",
       "    </tr>\n",
       "    <tr>\n",
       "      <th>5958</th>\n",
       "      <td>0</td>\n",
       "      <td>89800</td>\n",
       "      <td>50370.0</td>\n",
       "      <td>91861.0</td>\n",
       "      <td>DebtCon</td>\n",
       "      <td>Other</td>\n",
       "      <td>14.0</td>\n",
       "      <td>0.0</td>\n",
       "      <td>0.0</td>\n",
       "      <td>213.892709</td>\n",
       "      <td>0.0</td>\n",
       "      <td>16.0</td>\n",
       "      <td>34.340882</td>\n",
       "    </tr>\n",
       "    <tr>\n",
       "      <th>5959</th>\n",
       "      <td>0</td>\n",
       "      <td>89900</td>\n",
       "      <td>48811.0</td>\n",
       "      <td>88934.0</td>\n",
       "      <td>DebtCon</td>\n",
       "      <td>Other</td>\n",
       "      <td>15.0</td>\n",
       "      <td>0.0</td>\n",
       "      <td>0.0</td>\n",
       "      <td>219.601002</td>\n",
       "      <td>0.0</td>\n",
       "      <td>16.0</td>\n",
       "      <td>34.571519</td>\n",
       "    </tr>\n",
       "  </tbody>\n",
       "</table>\n",
       "</div>"
      ],
      "text/plain": [
       "      BAD   LOAN  MORTDUE    VALUE   REASON    JOB   YOJ  DEROG  DELINQ  \\\n",
       "5955    0  88900  57264.0  90185.0  DebtCon  Other  16.0    0.0     0.0   \n",
       "5956    0  89000  54576.0  92937.0  DebtCon  Other  16.0    0.0     0.0   \n",
       "5957    0  89200  54045.0  92924.0  DebtCon  Other  15.0    0.0     0.0   \n",
       "5958    0  89800  50370.0  91861.0  DebtCon  Other  14.0    0.0     0.0   \n",
       "5959    0  89900  48811.0  88934.0  DebtCon  Other  15.0    0.0     0.0   \n",
       "\n",
       "           CLAGE  NINQ  CLNO    DEBTINC  \n",
       "5955  221.808718   0.0  16.0  36.112347  \n",
       "5956  208.692070   0.0  15.0  35.859971  \n",
       "5957  212.279697   0.0  15.0  35.556590  \n",
       "5958  213.892709   0.0  16.0  34.340882  \n",
       "5959  219.601002   0.0  16.0  34.571519  "
      ]
     },
     "execution_count": 189,
     "metadata": {},
     "output_type": "execute_result"
    }
   ],
   "source": [
    "# Returns the last 5 rows\n",
    "df.tail()"
   ]
  },
  {
   "cell_type": "markdown",
   "metadata": {},
   "source": [
    "<b>Checking the data types</b>"
   ]
  },
  {
   "cell_type": "code",
   "execution_count": 190,
   "metadata": {},
   "outputs": [
    {
     "name": "stdout",
     "output_type": "stream",
     "text": [
      "<class 'pandas.core.frame.DataFrame'>\n",
      "RangeIndex: 5960 entries, 0 to 5959\n",
      "Data columns (total 13 columns):\n",
      " #   Column   Non-Null Count  Dtype  \n",
      "---  ------   --------------  -----  \n",
      " 0   BAD      5960 non-null   int64  \n",
      " 1   LOAN     5960 non-null   int64  \n",
      " 2   MORTDUE  5442 non-null   float64\n",
      " 3   VALUE    5848 non-null   float64\n",
      " 4   REASON   5708 non-null   object \n",
      " 5   JOB      5681 non-null   object \n",
      " 6   YOJ      5445 non-null   float64\n",
      " 7   DEROG    5252 non-null   float64\n",
      " 8   DELINQ   5380 non-null   float64\n",
      " 9   CLAGE    5652 non-null   float64\n",
      " 10  NINQ     5450 non-null   float64\n",
      " 11  CLNO     5738 non-null   float64\n",
      " 12  DEBTINC  4693 non-null   float64\n",
      "dtypes: float64(9), int64(2), object(2)\n",
      "memory usage: 605.4+ KB\n"
     ]
    }
   ],
   "source": [
    "# Use info() to print a concise summary of the DataFrame\n",
    "df.info()"
   ]
  },
  {
   "cell_type": "markdown",
   "metadata": {},
   "source": [
    "<b>Observations:</b>\n",
    "- There are 11 numerical columns (9 floats, 2 integers)\n",
    "- There are 2 object type columns\n",
    "- Not all columns have the same number of entries, this means that there might be missing values in the dataset"
   ]
  },
  {
   "cell_type": "markdown",
   "metadata": {},
   "source": [
    "<b>Checking for missing values</b>"
   ]
  },
  {
   "cell_type": "code",
   "execution_count": 191,
   "metadata": {},
   "outputs": [
    {
     "data": {
      "text/plain": [
       "BAD           0\n",
       "LOAN          0\n",
       "MORTDUE     518\n",
       "VALUE       112\n",
       "REASON      252\n",
       "JOB         279\n",
       "YOJ         515\n",
       "DEROG       708\n",
       "DELINQ      580\n",
       "CLAGE       308\n",
       "NINQ        510\n",
       "CLNO        222\n",
       "DEBTINC    1267\n",
       "dtype: int64"
      ]
     },
     "execution_count": 191,
     "metadata": {},
     "output_type": "execute_result"
    }
   ],
   "source": [
    "# Add up any missing values in each column\n",
    "df.isnull().sum()"
   ]
  },
  {
   "cell_type": "markdown",
   "metadata": {},
   "source": [
    "<b>Observations:</b>\n",
    "- All columns have missing values except from BAD and LOAN columns\n",
    "- DEBTINC has the most missing values, 1267 of them."
   ]
  },
  {
   "cell_type": "markdown",
   "metadata": {},
   "source": [
    "<b>Checking for duplicated values</b>"
   ]
  },
  {
   "cell_type": "code",
   "execution_count": 192,
   "metadata": {},
   "outputs": [
    {
     "data": {
      "text/plain": [
       "0"
      ]
     },
     "execution_count": 192,
     "metadata": {},
     "output_type": "execute_result"
    }
   ],
   "source": [
    "# Checking for duplicates in the dataset\n",
    "df.duplicated().sum()"
   ]
  },
  {
   "cell_type": "markdown",
   "metadata": {},
   "source": [
    "<b>Observations:</b>\n",
    "- No duplicates found"
   ]
  },
  {
   "cell_type": "markdown",
   "metadata": {},
   "source": [
    "<b>Checking the count of unique values</b>"
   ]
  },
  {
   "cell_type": "code",
   "execution_count": 193,
   "metadata": {},
   "outputs": [
    {
     "data": {
      "text/plain": [
       "BAD           2\n",
       "LOAN        540\n",
       "MORTDUE    5053\n",
       "VALUE      5381\n",
       "REASON        2\n",
       "JOB           6\n",
       "YOJ          99\n",
       "DEROG        11\n",
       "DELINQ       14\n",
       "CLAGE      5314\n",
       "NINQ         16\n",
       "CLNO         62\n",
       "DEBTINC    4693\n",
       "dtype: int64"
      ]
     },
     "execution_count": 193,
     "metadata": {},
     "output_type": "execute_result"
    }
   ],
   "source": [
    "# Checking the count of unique values in each column\n",
    "df.nunique()"
   ]
  },
  {
   "cell_type": "markdown",
   "metadata": {},
   "source": [
    "<b>Observations</b>\n",
    "- BAD, REASON, and JOB are categorical values.\n",
    "- LOAD, MORTDUE, VALUE, YOJ, DEROG, DELINQ, CLAGE, NINQ, CLNO, and DEBTINC are continuous variables.\n",
    "- There are no columns that should be dropped because none of them have 5960 unique variables."
   ]
  },
  {
   "cell_type": "markdown",
   "metadata": {
    "id": "rHTODkjLuTCT"
   },
   "source": [
    "## Summary Statistics"
   ]
  },
  {
   "cell_type": "markdown",
   "metadata": {
    "id": "g51vGZAGuTCT"
   },
   "source": [
    "- Observations from Summary Statistics"
   ]
  },
  {
   "cell_type": "code",
   "execution_count": 194,
   "metadata": {
    "id": "9hRbpzF0BZth"
   },
   "outputs": [
    {
     "data": {
      "text/html": [
       "<div>\n",
       "<style scoped>\n",
       "    .dataframe tbody tr th:only-of-type {\n",
       "        vertical-align: middle;\n",
       "    }\n",
       "\n",
       "    .dataframe tbody tr th {\n",
       "        vertical-align: top;\n",
       "    }\n",
       "\n",
       "    .dataframe thead th {\n",
       "        text-align: right;\n",
       "    }\n",
       "</style>\n",
       "<table border=\"1\" class=\"dataframe\">\n",
       "  <thead>\n",
       "    <tr style=\"text-align: right;\">\n",
       "      <th></th>\n",
       "      <th>count</th>\n",
       "      <th>mean</th>\n",
       "      <th>std</th>\n",
       "      <th>min</th>\n",
       "      <th>25%</th>\n",
       "      <th>50%</th>\n",
       "      <th>75%</th>\n",
       "      <th>max</th>\n",
       "    </tr>\n",
       "  </thead>\n",
       "  <tbody>\n",
       "    <tr>\n",
       "      <th>BAD</th>\n",
       "      <td>5960.0</td>\n",
       "      <td>0.199497</td>\n",
       "      <td>0.399656</td>\n",
       "      <td>0.000000</td>\n",
       "      <td>0.000000</td>\n",
       "      <td>0.000000</td>\n",
       "      <td>0.000000</td>\n",
       "      <td>1.000000</td>\n",
       "    </tr>\n",
       "    <tr>\n",
       "      <th>LOAN</th>\n",
       "      <td>5960.0</td>\n",
       "      <td>18607.969799</td>\n",
       "      <td>11207.480417</td>\n",
       "      <td>1100.000000</td>\n",
       "      <td>11100.000000</td>\n",
       "      <td>16300.000000</td>\n",
       "      <td>23300.000000</td>\n",
       "      <td>89900.000000</td>\n",
       "    </tr>\n",
       "    <tr>\n",
       "      <th>MORTDUE</th>\n",
       "      <td>5442.0</td>\n",
       "      <td>73760.817200</td>\n",
       "      <td>44457.609458</td>\n",
       "      <td>2063.000000</td>\n",
       "      <td>46276.000000</td>\n",
       "      <td>65019.000000</td>\n",
       "      <td>91488.000000</td>\n",
       "      <td>399550.000000</td>\n",
       "    </tr>\n",
       "    <tr>\n",
       "      <th>VALUE</th>\n",
       "      <td>5848.0</td>\n",
       "      <td>101776.048741</td>\n",
       "      <td>57385.775334</td>\n",
       "      <td>8000.000000</td>\n",
       "      <td>66075.500000</td>\n",
       "      <td>89235.500000</td>\n",
       "      <td>119824.250000</td>\n",
       "      <td>855909.000000</td>\n",
       "    </tr>\n",
       "    <tr>\n",
       "      <th>YOJ</th>\n",
       "      <td>5445.0</td>\n",
       "      <td>8.922268</td>\n",
       "      <td>7.573982</td>\n",
       "      <td>0.000000</td>\n",
       "      <td>3.000000</td>\n",
       "      <td>7.000000</td>\n",
       "      <td>13.000000</td>\n",
       "      <td>41.000000</td>\n",
       "    </tr>\n",
       "    <tr>\n",
       "      <th>DEROG</th>\n",
       "      <td>5252.0</td>\n",
       "      <td>0.254570</td>\n",
       "      <td>0.846047</td>\n",
       "      <td>0.000000</td>\n",
       "      <td>0.000000</td>\n",
       "      <td>0.000000</td>\n",
       "      <td>0.000000</td>\n",
       "      <td>10.000000</td>\n",
       "    </tr>\n",
       "    <tr>\n",
       "      <th>DELINQ</th>\n",
       "      <td>5380.0</td>\n",
       "      <td>0.449442</td>\n",
       "      <td>1.127266</td>\n",
       "      <td>0.000000</td>\n",
       "      <td>0.000000</td>\n",
       "      <td>0.000000</td>\n",
       "      <td>0.000000</td>\n",
       "      <td>15.000000</td>\n",
       "    </tr>\n",
       "    <tr>\n",
       "      <th>CLAGE</th>\n",
       "      <td>5652.0</td>\n",
       "      <td>179.766275</td>\n",
       "      <td>85.810092</td>\n",
       "      <td>0.000000</td>\n",
       "      <td>115.116702</td>\n",
       "      <td>173.466667</td>\n",
       "      <td>231.562278</td>\n",
       "      <td>1168.233561</td>\n",
       "    </tr>\n",
       "    <tr>\n",
       "      <th>NINQ</th>\n",
       "      <td>5450.0</td>\n",
       "      <td>1.186055</td>\n",
       "      <td>1.728675</td>\n",
       "      <td>0.000000</td>\n",
       "      <td>0.000000</td>\n",
       "      <td>1.000000</td>\n",
       "      <td>2.000000</td>\n",
       "      <td>17.000000</td>\n",
       "    </tr>\n",
       "    <tr>\n",
       "      <th>CLNO</th>\n",
       "      <td>5738.0</td>\n",
       "      <td>21.296096</td>\n",
       "      <td>10.138933</td>\n",
       "      <td>0.000000</td>\n",
       "      <td>15.000000</td>\n",
       "      <td>20.000000</td>\n",
       "      <td>26.000000</td>\n",
       "      <td>71.000000</td>\n",
       "    </tr>\n",
       "    <tr>\n",
       "      <th>DEBTINC</th>\n",
       "      <td>4693.0</td>\n",
       "      <td>33.779915</td>\n",
       "      <td>8.601746</td>\n",
       "      <td>0.524499</td>\n",
       "      <td>29.140031</td>\n",
       "      <td>34.818262</td>\n",
       "      <td>39.003141</td>\n",
       "      <td>203.312149</td>\n",
       "    </tr>\n",
       "  </tbody>\n",
       "</table>\n",
       "</div>"
      ],
      "text/plain": [
       "          count           mean           std          min           25%  \\\n",
       "BAD      5960.0       0.199497      0.399656     0.000000      0.000000   \n",
       "LOAN     5960.0   18607.969799  11207.480417  1100.000000  11100.000000   \n",
       "MORTDUE  5442.0   73760.817200  44457.609458  2063.000000  46276.000000   \n",
       "VALUE    5848.0  101776.048741  57385.775334  8000.000000  66075.500000   \n",
       "YOJ      5445.0       8.922268      7.573982     0.000000      3.000000   \n",
       "DEROG    5252.0       0.254570      0.846047     0.000000      0.000000   \n",
       "DELINQ   5380.0       0.449442      1.127266     0.000000      0.000000   \n",
       "CLAGE    5652.0     179.766275     85.810092     0.000000    115.116702   \n",
       "NINQ     5450.0       1.186055      1.728675     0.000000      0.000000   \n",
       "CLNO     5738.0      21.296096     10.138933     0.000000     15.000000   \n",
       "DEBTINC  4693.0      33.779915      8.601746     0.524499     29.140031   \n",
       "\n",
       "                  50%            75%            max  \n",
       "BAD          0.000000       0.000000       1.000000  \n",
       "LOAN     16300.000000   23300.000000   89900.000000  \n",
       "MORTDUE  65019.000000   91488.000000  399550.000000  \n",
       "VALUE    89235.500000  119824.250000  855909.000000  \n",
       "YOJ          7.000000      13.000000      41.000000  \n",
       "DEROG        0.000000       0.000000      10.000000  \n",
       "DELINQ       0.000000       0.000000      15.000000  \n",
       "CLAGE      173.466667     231.562278    1168.233561  \n",
       "NINQ         1.000000       2.000000      17.000000  \n",
       "CLNO        20.000000      26.000000      71.000000  \n",
       "DEBTINC     34.818262      39.003141     203.312149  "
      ]
     },
     "execution_count": 194,
     "metadata": {},
     "output_type": "execute_result"
    }
   ],
   "source": [
    "# Statistical summary of the data\n",
    "df.describe().T"
   ]
  },
  {
   "cell_type": "markdown",
   "metadata": {},
   "source": [
    "<b>Observations:</b>\n",
    "- The average amount due on the existing mortgage is \\\\$18608. The maximum amount is \\\\$89900 which is significantly higher than the average. The median is \\\\$16300 which is less than the average and indicates a right skew distribution.\n",
    "- The average loan amount is \\\\$73761. The maximum amount is \\\\$399550 which is significantly higher than the average. The median is \\\\$65019 which is less than the average and indicates a slight right skew distribution.\n",
    "- The average current value of the property is \\\\$101776. The maximum amount is \\\\$855909 which is significantly higher than the average. The median is \\\\$89236 which is less than the average and indicates a right skew distribution."
   ]
  },
  {
   "cell_type": "code",
   "execution_count": 195,
   "metadata": {},
   "outputs": [
    {
     "name": "stdout",
     "output_type": "stream",
     "text": [
      "0    0.800503\n",
      "1    0.199497\n",
      "Name: BAD, dtype: float64\n",
      "--------------------------------------------------\n",
      "DebtCon    0.688157\n",
      "HomeImp    0.311843\n",
      "Name: REASON, dtype: float64\n",
      "--------------------------------------------------\n",
      "Other      0.420349\n",
      "ProfExe    0.224608\n",
      "Office     0.166872\n",
      "Mgr        0.135011\n",
      "Self       0.033973\n",
      "Sales      0.019187\n",
      "Name: JOB, dtype: float64\n",
      "--------------------------------------------------\n"
     ]
    }
   ],
   "source": [
    "# List of categorical variables\n",
    "cat_col = list(df.select_dtypes(\"object\").columns)\n",
    "\n",
    "# Value proportions for BAD binary value\n",
    "print(df['BAD'].value_counts(1))\n",
    "print(\"-\" * 50)\n",
    "\n",
    "# Value proportions in every column\n",
    "for column in cat_col:\n",
    "    # Using 1 to normalize the proportion\n",
    "    print(df[column].value_counts(1))\n",
    "    print(\"-\" * 50)"
   ]
  },
  {
   "cell_type": "markdown",
   "metadata": {},
   "source": [
    "<b>Observations:</b>\n",
    "- 80% of applicants repaid their loans. 20% defaulted on their loans, that is only 1/5 of all applicants.\n",
    "- 69% of applicants requested a loan for debt consolidation, 31% requested a loan for home improvement.\n",
    "- Almost half (42%) of all applicants work in other sectors than the ones listed. 22% work as professional executives, 17% work at offices, 14% work in migration, 3% are self-employed and 2% of all applicants are in sales."
   ]
  },
  {
   "cell_type": "markdown",
   "metadata": {
    "id": "3ZcMbNvZuTCW"
   },
   "source": [
    "## **Exploratory Data Analysis (EDA) and Visualization**"
   ]
  },
  {
   "cell_type": "markdown",
   "metadata": {
    "id": "65yxFJFVuTCW"
   },
   "source": [
    "### **Univariate Analysis**\n"
   ]
  },
  {
   "cell_type": "code",
   "execution_count": 196,
   "metadata": {},
   "outputs": [
    {
     "data": {
      "image/png": "[encoded data removed]",
      "text/plain": [
       "<Figure size 1440x720 with 2 Axes>"
      ]
     },
     "metadata": {
      "needs_background": "light"
     },
     "output_type": "display_data"
    }
   ],
   "source": [
    "# Question: What is the range of values for the loan amount variable \"LOAN\"?\n",
    "\n",
    "# Increase plot size\n",
    "plt.figure(figsize=(20, 10))\n",
    "\n",
    "# Make the first subplot (one row, two columns, first plot)\n",
    "plt.subplot(1, 2, 1)\n",
    "# Histogram: Loan amount per person\n",
    "sns.histplot(x = df['LOAN'], kde=True)\n",
    "plt.xlabel(\"Loan amount in USD\")\n",
    "plt.ylabel(\"Number of people\")\n",
    "\n",
    "# Second subplot\n",
    "plt.subplot(1, 2, 2)\n",
    "# Boxplot: Loan amount per person\n",
    "sns.boxplot(x = df['LOAN'])\n",
    "plt.xlabel(\"Loan amount in USD\")\n",
    "\n",
    "# Show the two plots\n",
    "plt.tight_layout()\n",
    "plt.show()"
   ]
  },
  {
   "cell_type": "markdown",
   "metadata": {},
   "source": [
    "<b>Observations:</b>\n",
    "- By using Kernel density estimation in the histogram, we see that data is positively skewed.\n",
    "- Most applicants take out loans worth about \\\\$16000 judging from the histogram.\n",
    "- From the boxplot, we can observe that the median is about \\\\$16000 as well.\n",
    "- The interquartile range is between 0 and 42000 dollars.\n",
    "- There are a lot of outliers on the right which indicates a right skewed distribution.\n",
    "- Overall the amount of loan ranges between 0 and 90000 USD."
   ]
  },
  {
   "cell_type": "code",
   "execution_count": 197,
   "metadata": {
    "id": "2zXcgmBeBZti"
   },
   "outputs": [
    {
     "data": {
      "image/png": "[encoded data removed]",
      "text/plain": [
       "<Figure size 1440x720 with 2 Axes>"
      ]
     },
     "metadata": {
      "needs_background": "light"
     },
     "output_type": "display_data"
    }
   ],
   "source": [
    "# Question: How does the distribution of years at present job \"YOJ\" vary across the dataset?\n",
    "\n",
    "# Increase plot size\n",
    "plt.figure(figsize=(20, 10))\n",
    "\n",
    "# Make the first subplot (one row, two columns, first plot)\n",
    "plt.subplot(1, 2, 1)\n",
    "# Histogram: how many years the applicants worked at their current job\n",
    "sns.histplot(x = df['YOJ'], kde=True)\n",
    "# Label axes\n",
    "plt.xlabel(\"Years at present job\")\n",
    "plt.ylabel(\"Number of people\")\n",
    "\n",
    "# Second subplot\n",
    "plt.subplot(1, 2, 2)\n",
    "# Boxplot: how many years the applicants worked at their current job\n",
    "sns.boxplot(x=df['YOJ'])\n",
    "plt.xlabel(\"Years at present job\")\n",
    "\n",
    "# Show the two plots\n",
    "plt.tight_layout()\n",
    "plt.show()"
   ]
  },
  {
   "cell_type": "markdown",
   "metadata": {},
   "source": [
    "<b>Observations:</b>\n",
    "- By using Kernel density estimation in the histogram, we see that data is positively skewed.\n",
    "- Most applicants (850) have little to no work experience, up to a year at their present job.\n",
    "- From the boxplot, we can observe that the median is about 7 years.\n",
    "- The interquartile range is between 0 and 28 years.\n",
    "- There are a lot of outliers on the right which indicates a right skewed distribution."
   ]
  },
  {
   "cell_type": "code",
   "execution_count": 198,
   "metadata": {},
   "outputs": [
    {
     "data": {
      "image/png": "[encoded data removed]",
      "text/plain": [
       "<Figure size 432x288 with 1 Axes>"
      ]
     },
     "metadata": {
      "needs_background": "light"
     },
     "output_type": "display_data"
    }
   ],
   "source": [
    "# Question: How many unique categories are there in the REASON variable?\n",
    "\n",
    "# Count plot: Reason for loan\n",
    "sns.countplot(x = df['REASON'])\n",
    "\n",
    "# Label axes\n",
    "plt.xlabel(\"Reason\")\n",
    "plt.ylabel(\"Number of people\")\n",
    "plt.show()"
   ]
  },
  {
   "cell_type": "markdown",
   "metadata": {},
   "source": [
    "<b>Observations:</b>\n",
    "- There are two categories when choosing the reason for a loan, home improvement or  debt consolidation.\n",
    "- 4000 applicants took out the loan for debt consolidation, which is two times more than 1800 of applicants who took out the loan for home improvement."
   ]
  },
  {
   "cell_type": "code",
   "execution_count": 199,
   "metadata": {},
   "outputs": [
    {
     "data": {
      "image/png": "[encoded data removed]",
      "text/plain": [
       "<Figure size 432x288 with 1 Axes>"
      ]
     },
     "metadata": {
      "needs_background": "light"
     },
     "output_type": "display_data"
    }
   ],
   "source": [
    "# Question: What is the most common category in the JOB variable?\n",
    "\n",
    "# Count plot: Jobs of applicants\n",
    "sns.countplot(x = df['JOB'])\n",
    "\n",
    "# Label axes\n",
    "plt.xlabel(\"Job\")\n",
    "plt.ylabel(\"Number of people\")\n",
    "plt.show()"
   ]
  },
  {
   "cell_type": "markdown",
   "metadata": {},
   "source": [
    "<b>Observations:</b>\n",
    "- There are 6 job categories for applicants: Self, professional executive, migration, sales, office and other.\n",
    "- Most applicants (2400) have other occupations, that is two times more than the next most popular job which is professional executive with 1400 people. It is followed by office, migration, self employed and sales in descending order."
   ]
  },
  {
   "cell_type": "markdown",
   "metadata": {
    "id": "jg5IFtbouTCa"
   },
   "source": [
    "### **Bivariate Analysis**"
   ]
  },
  {
   "cell_type": "code",
   "execution_count": 200,
   "metadata": {
    "id": "9b60NSTMBZtj"
   },
   "outputs": [
    {
     "data": {
      "image/png": "[encoded data removed]",
      "text/plain": [
       "<Figure size 432x288 with 1 Axes>"
      ]
     },
     "metadata": {
      "needs_background": "light"
     },
     "output_type": "display_data"
    }
   ],
   "source": [
    "# Question: Is there a relationship between the REASON variable and the proportion of applicants who defaulted on their loan?\n",
    "\n",
    "# Stacked bar plot: defaulting status vs reason for the loan proportion\n",
    "tab = pd.crosstab(df['REASON'], df['BAD'], normalize='index')\n",
    "tab.plot(kind='bar', stacked=True)\n",
    "\n",
    "# Label axes\n",
    "plt.xlabel('Reason for loan')\n",
    "plt.ylabel('Proportion of people')\n",
    "plt.legend(['Loan repaid', 'Loan defaulted'])\n",
    "plt.show()"
   ]
  },
  {
   "cell_type": "markdown",
   "metadata": {},
   "source": [
    "<b>Observations:</b>\n",
    "- A higher percentage of people, about 25% defaulted on loans when the reason for their loan was home improvement compared to those whose reasons were debt consolidation (20%).\n",
    "- This could be caused by unexpected expenses that arise when doing home improvements or because it is likely that people who took out loans to repay their other liabilities, took out other loans to repay this one."
   ]
  },
  {
   "cell_type": "code",
   "execution_count": 201,
   "metadata": {},
   "outputs": [
    {
     "data": {
      "image/png": "[encoded data removed]",
      "text/plain": [
       "<Figure size 432x288 with 1 Axes>"
      ]
     },
     "metadata": {
      "needs_background": "light"
     },
     "output_type": "display_data"
    }
   ],
   "source": [
    "# Question: Do applicants who default have a significantly different loan amount compared to those who repay their loan?\n",
    "\n",
    "# Bar plot: Amount of loan taken out vs if the loan \n",
    "sns.barplot(x=df['BAD'], y=df['LOAN'])\n",
    "\n",
    "# Label axes\n",
    "plt.xlabel('Loan repaid? (1-No, 0-Yes)')\n",
    "plt.ylabel('Loan amount USD')\n",
    "plt.show()"
   ]
  },
  {
   "cell_type": "markdown",
   "metadata": {},
   "source": [
    "<b>Observations:</b>\n",
    "- If the loan was repaid, the average loan amount is higher, about \\\\$18000.\n",
    "- If the loan was defaulted, the average loan amount is slightly lower, about \\\\$17000.\n",
    "- The difference is only \\\\$1000 so it is not significant."
   ]
  },
  {
   "cell_type": "code",
   "execution_count": 202,
   "metadata": {},
   "outputs": [
    {
     "data": {
      "image/png": "[encoded data removed]",
      "text/plain": [
       "<Figure size 432x288 with 1 Axes>"
      ]
     },
     "metadata": {
      "needs_background": "light"
     },
     "output_type": "display_data"
    }
   ],
   "source": [
    "# Question: Is there a correlation between the value of the property and the loan default rate?\n",
    "\n",
    "# Bar plot: Amount of loan taken out vs if the loan was repaid\n",
    "sns.barplot(x=df['BAD'], y=df['VALUE'])\n",
    "\n",
    "# Label axes\n",
    "plt.xlabel('Loan repaid? (1-No, 0-Yes)')\n",
    "plt.ylabel('Property value USD')\n",
    "plt.show()"
   ]
  },
  {
   "cell_type": "markdown",
   "metadata": {},
   "source": [
    "<b>Observations:</b>\n",
    "- On average, those who repay their loans have properties of higher value, over 100000 USD.\n",
    "- Those who default on loans own properties that are less valuable on average, about 90000 USD.\n",
    "- The difference is not significant, only about 10000 USD.\n",
    "- There is a slight negative correlation between property value and loan repayment."
   ]
  },
  {
   "cell_type": "code",
   "execution_count": 203,
   "metadata": {},
   "outputs": [
    {
     "data": {
      "image/png": "[encoded data removed]",
      "text/plain": [
       "<Figure size 432x288 with 1 Axes>"
      ]
     },
     "metadata": {
      "needs_background": "light"
     },
     "output_type": "display_data"
    }
   ],
   "source": [
    "# Question: Do applicants who default have a significantly different mortgage amount compared to those who repay their loan?\n",
    "\n",
    "# Bar plot: Amount of loan taken out vs if the loan was repaid\n",
    "sns.barplot(x=df['BAD'], y=df['MORTDUE'])\n",
    "\n",
    "# Label axes\n",
    "plt.xlabel('Loan repaid? (1-No, 0-Yes)')\n",
    "plt.ylabel('Mortgage amount USD')\n",
    "plt.show()"
   ]
  },
  {
   "cell_type": "markdown",
   "metadata": {},
   "source": [
    "<b>Observations:</b>\n",
    "- Those who default have on average lower amount of mortgage, about 65000 USD, than those who repay their loan, about an average of 75000 USD.\n",
    "- This might be because they use up all of their loan on repaying their mortgage and then are unable to repay the loan."
   ]
  },
  {
   "cell_type": "markdown",
   "metadata": {
    "id": "pc9wZJcGuTCm"
   },
   "source": [
    "### **Multivariate Analysis**"
   ]
  },
  {
   "cell_type": "code",
   "execution_count": 204,
   "metadata": {},
   "outputs": [
    {
     "data": {
      "image/png": "[encoded data removed]",
      "text/plain": [
       "<Figure size 1440x720 with 2 Axes>"
      ]
     },
     "metadata": {
      "needs_background": "light"
     },
     "output_type": "display_data"
    }
   ],
   "source": [
    "# Increase plot size\n",
    "plt.figure(figsize=(20, 10))\n",
    "\n",
    "# Heatmap: Comparing numerical values\n",
    "sns.heatmap(data = df.select_dtypes(include=np.number).corr(), annot=True, cmap='YlGnBu')\n",
    "plt.show()"
   ]
  },
  {
   "cell_type": "markdown",
   "metadata": {},
   "source": [
    "<b>Observations:</b>\n",
    "- There is a strong positive correlation between the value of the property and the amount due on the existing mortgage. This makes sense because if the property is more expensive, the mortgage is going to be bigger.\n",
    "- There are no other strong correlations between numerical variables."
   ]
  },
  {
   "cell_type": "markdown",
   "metadata": {
    "id": "zEjMlq0quTCp"
   },
   "source": [
    "## Treating Outliers"
   ]
  },
  {
   "cell_type": "code",
   "execution_count": 205,
   "metadata": {
    "id": "WTtFHgKTBZtj"
   },
   "outputs": [
    {
     "data": {
      "image/png": "[encoded data removed]",
      "text/plain": [
       "<Figure size 720x360 with 1 Axes>"
      ]
     },
     "metadata": {
      "needs_background": "light"
     },
     "output_type": "display_data"
    },
    {
     "data": {
      "image/png": "[encoded data removed]",
      "text/plain": [
       "<Figure size 720x360 with 1 Axes>"
      ]
     },
     "metadata": {
      "needs_background": "light"
     },
     "output_type": "display_data"
    },
    {
     "data": {
      "image/png": "[encoded data removed]",
      "text/plain": [
       "<Figure size 720x360 with 1 Axes>"
      ]
     },
     "metadata": {
      "needs_background": "light"
     },
     "output_type": "display_data"
    },
    {
     "data": {
      "image/png": "[encoded data removed]",
      "text/plain": [
       "<Figure size 720x360 with 1 Axes>"
      ]
     },
     "metadata": {
      "needs_background": "light"
     },
     "output_type": "display_data"
    },
    {
     "data": {
      "image/png": "[encoded data removed]",
      "text/plain": [
       "<Figure size 720x360 with 1 Axes>"
      ]
     },
     "metadata": {
      "needs_background": "light"
     },
     "output_type": "display_data"
    },
    {
     "data": {
      "image/png": "[encoded data removed]",
      "text/plain": [
       "<Figure size 720x360 with 1 Axes>"
      ]
     },
     "metadata": {
      "needs_background": "light"
     },
     "output_type": "display_data"
    },
    {
     "data": {
      "image/png": "[encoded data removed]",
      "text/plain": [
       "<Figure size 720x360 with 1 Axes>"
      ]
     },
     "metadata": {
      "needs_background": "light"
     },
     "output_type": "display_data"
    },
    {
     "data": {
      "image/png": "[encoded data removed]",
      "text/plain": [
       "<Figure size 720x360 with 1 Axes>"
      ]
     },
     "metadata": {
      "needs_background": "light"
     },
     "output_type": "display_data"
    },
    {
     "data": {
      "image/png": "[encoded data removed]",
      "text/plain": [
       "<Figure size 720x360 with 1 Axes>"
      ]
     },
     "metadata": {
      "needs_background": "light"
     },
     "output_type": "display_data"
    },
    {
     "data": {
      "image/png": "[encoded data removed]",
      "text/plain": [
       "<Figure size 720x360 with 1 Axes>"
      ]
     },
     "metadata": {
      "needs_background": "light"
     },
     "output_type": "display_data"
    }
   ],
   "source": [
    "# Outlier detection using boxplots, excluding BAD\n",
    "for i in ['LOAN', 'MORTDUE', 'VALUE', 'YOJ', 'DEROG', 'DELINQ', 'CLAGE', 'NINQ', 'CLNO', 'DEBTINC']:\n",
    "    # Increase plot size\n",
    "    plt.figure(figsize=(10, 5))\n",
    "    sns.boxplot(x=df[i])\n",
    "    plt.show()"
   ]
  },
  {
   "cell_type": "markdown",
   "metadata": {},
   "source": [
    "<b>Observations:</b>\n",
    "- There are outliers present in every numerical category.\n",
    "- Not all outliers should be treated, some might introduce bias if treated.\n",
    "- Clear outliers that we can deal with can be spotted in the current property value column, years at present job column, age of the oldest credit line in months column, and debt-to-income ratio column."
   ]
  },
  {
   "cell_type": "code",
   "execution_count": 206,
   "metadata": {},
   "outputs": [],
   "source": [
    "# Outliers treatment for VALUE\n",
    "# Formula to calculate IQR: q3 - q1\n",
    "q1 = df[\"VALUE\"].quantile(0.25)\n",
    "q3 = df[\"VALUE\"].quantile(0.75)\n",
    "iqr = q3 - q1\n",
    "\n",
    "# Formula to calculate upper whisker: q3 + 1.5 * IQR\n",
    "whisker = q3 + 1.5 + iqr\n",
    "\n",
    "df.loc[df[\"VALUE\"] > 600000, \"VALUE\"] = whisker"
   ]
  },
  {
   "cell_type": "code",
   "execution_count": 207,
   "metadata": {},
   "outputs": [],
   "source": [
    "# Outliers treatment for YOJ\n",
    "# Formula to calculate IQR: q3 - q1\n",
    "q1 = df[\"YOJ\"].quantile(0.25)\n",
    "q3 = df[\"YOJ\"].quantile(0.75)\n",
    "iqr = q3 - q1\n",
    "\n",
    "# Formula to calculate upper whisker: q3 + 1.5 * IQR\n",
    "whisker = q3 + 1.5 + iqr\n",
    "\n",
    "df.loc[df[\"YOJ\"] > 40.00, \"YOJ\"] = whisker"
   ]
  },
  {
   "cell_type": "code",
   "execution_count": 208,
   "metadata": {},
   "outputs": [],
   "source": [
    "# Outliers treatment for CLAGE\n",
    "# Formula to calculate IQR: q3 - q1\n",
    "q1 = df[\"CLAGE\"].quantile(0.25)\n",
    "q3 = df[\"CLAGE\"].quantile(0.75)\n",
    "iqr = q3 - q1\n",
    "\n",
    "# Formula to calculate upper whisker: q3 + 1.5 * IQR\n",
    "whisker = q3 + 1.5 + iqr\n",
    "\n",
    "df.loc[df[\"CLAGE\"] > 1000, \"CLAGE\"] = whisker"
   ]
  },
  {
   "cell_type": "code",
   "execution_count": 209,
   "metadata": {},
   "outputs": [],
   "source": [
    "# Outliers treatment for DEBTINC\n",
    "# Formula to calculate IQR: q3 - q1\n",
    "q1 = df[\"DEBTINC\"].quantile(0.25)\n",
    "q3 = df[\"DEBTINC\"].quantile(0.75)\n",
    "iqr = q3 - q1\n",
    "\n",
    "# Formula to calculate upper whisker: q3 + 1.5 * IQR\n",
    "whisker = q3 + 1.5 + iqr\n",
    "\n",
    "df.loc[df[\"DEBTINC\"] > 150, \"DEBTINC\"] = whisker"
   ]
  },
  {
   "cell_type": "markdown",
   "metadata": {},
   "source": [
    "<b>Observations:</b>\n",
    "- This outliers treatment works by matching outliers to the upper whisker.\n",
    "- Since the current property value variable is continuous and has noticeable outliers above 600000, we perform outlier treatment on it.\n",
    "- Since the years at present job variable is continuous and has noticeable outliers above 40, we perform outlier treatment on it.\n",
    "- Since the age of the oldest credit line in months variable is continuous and has noticeable outliers above 1000, we perform outlier treatment on it.\n",
    "- Since the debt-to-income ratio is continuous and has noticeable outliers above 150, we perform outlier treatment on it."
   ]
  },
  {
   "cell_type": "markdown",
   "metadata": {
    "id": "U8CEq24hBZtj"
   },
   "source": [
    "## Treating Missing Values"
   ]
  },
  {
   "cell_type": "code",
   "execution_count": 210,
   "metadata": {
    "id": "CDYGPOlXBZtk"
   },
   "outputs": [
    {
     "data": {
      "text/plain": [
       "BAD           0\n",
       "LOAN          0\n",
       "MORTDUE     518\n",
       "VALUE       112\n",
       "REASON      252\n",
       "JOB         279\n",
       "YOJ         515\n",
       "DEROG       708\n",
       "DELINQ      580\n",
       "CLAGE       308\n",
       "NINQ        510\n",
       "CLNO        222\n",
       "DEBTINC    1267\n",
       "dtype: int64"
      ]
     },
     "execution_count": 210,
     "metadata": {},
     "output_type": "execute_result"
    }
   ],
   "source": [
    "# Missing values check\n",
    "df.isnull().sum()"
   ]
  },
  {
   "cell_type": "markdown",
   "metadata": {},
   "source": [
    "<b>Observations:</b>\n",
    "- This dataset has a lot of missing values.\n",
    "- Only 2 columns do not have missing values, BAD and LOAN.\n",
    "- Need to keep in mind that introducing missing values treatment such as imputation might result in bias."
   ]
  },
  {
   "cell_type": "code",
   "execution_count": 211,
   "metadata": {},
   "outputs": [
    {
     "data": {
      "text/plain": [
       "BAD        0\n",
       "LOAN       0\n",
       "MORTDUE    0\n",
       "VALUE      0\n",
       "REASON     0\n",
       "JOB        0\n",
       "YOJ        0\n",
       "DEROG      0\n",
       "DELINQ     0\n",
       "CLAGE      0\n",
       "NINQ       0\n",
       "CLNO       0\n",
       "DEBTINC    0\n",
       "dtype: int64"
      ]
     },
     "execution_count": 211,
     "metadata": {},
     "output_type": "execute_result"
    }
   ],
   "source": [
    "# Impute missing values using mean, median and mode\n",
    "df['MORTDUE'] = df['MORTDUE'].fillna(df['MORTDUE'].mean())\n",
    "df['VALUE'] = df['VALUE'].fillna(df['VALUE'].mean())\n",
    "df['REASON'] = df['REASON'].fillna(df['REASON'].mode().iloc[0])\n",
    "df['JOB'] = df['JOB'].fillna(df['JOB'].mode().iloc[0])\n",
    "df['YOJ'] = df['YOJ'].fillna(df['YOJ'].median())\n",
    "df['DEROG'] = df['DEROG'].fillna(df['DEROG'].median())\n",
    "df['DELINQ'] = df['DELINQ'].fillna(df['DELINQ'].median())\n",
    "df['CLAGE'] = df['CLAGE'].fillna(df['CLAGE'].mean())\n",
    "df['NINQ'] = df['NINQ'].fillna(df['NINQ'].median())\n",
    "df['CLNO'] = df['CLNO'].fillna(df['CLNO'].median())\n",
    "df['DEBTINC'] = df['DEBTINC'].fillna(df['DEBTINC'].mean())\n",
    "\n",
    "# Missing values check\n",
    "df.isnull().sum()"
   ]
  },
  {
   "cell_type": "markdown",
   "metadata": {},
   "source": [
    "<b>Observations:</b>\n",
    "- Treated missing values in the dataset using mean, median and mode of variables.\n",
    "- Used mean for MORTDUE, VALUE, CLAGE, DEBTINC. \n",
    "- Used median for YOJ, DEROG, DELINQ, NINQ, and CLNO.\n",
    "- Used mode for object type variables: REASON and JOB.\n",
    "- All missing values have been treated."
   ]
  },
  {
   "cell_type": "markdown",
   "metadata": {
    "id": "eG_XM04vuTCs"
   },
   "source": [
    "## **Important Insights from EDA**"
   ]
  },
  {
   "cell_type": "markdown",
   "metadata": {
    "id": "jkV_0337BZtk"
   },
   "source": [
    "- The number of rows in the database is 5960 and the number of columns is 13.\n",
    "- There are 11 numerical columns (9 floats, 2 integers) and 2 object type columns.\n",
    "- 80% of applicants repaid their loans. 20% defaulted on their loans, which is only 1/5 of all applicants, so there is a class imbalance that needs to be handled carefully, either by adjusting class weights or using a resampling technique.\n",
    "- 69% of applicants requested a loan for debt consolidation, 31% requested a loan for home improvement. The loan purpose is an important feature and plays a significant role in default risk.\n",
    "- There is a strong positive correlation between the value of the property and the amount due on the existing mortgage, but defaulters tend to have lower mortgage amounts. This could potentially be indicating over-leveraging by the applicants.\n",
    "- Job categories and work experience in years are applicant profiles that provide insights into financial stability and repayment likelihood.\n",
    "- All columns have missing values except BAD and LOAN columns. Handling missing data is important for maintaining model integrity. Specifically in the case of DELINQ where there is a significant amount of missing data (1267 rows).\n",
    "- No duplicates were found in the data frame."
   ]
  },
  {
   "cell_type": "markdown",
   "metadata": {
    "id": "Cdqhtr8yuS-L"
   },
   "source": [
    "## **Model Building - Approach**"
   ]
  },
  {
   "cell_type": "markdown",
   "metadata": {},
   "source": [
    "<b>Data preparation</b>"
   ]
  },
  {
   "cell_type": "code",
   "execution_count": 212,
   "metadata": {},
   "outputs": [],
   "source": [
    "# Seperate independent variables\n",
    "x = df.drop('BAD', axis = 1)\n",
    "# Seperate target variable\n",
    "y = df['BAD']"
   ]
  },
  {
   "cell_type": "code",
   "execution_count": 213,
   "metadata": {},
   "outputs": [],
   "source": [
    "# Represent categorical variables with 1s and 0s\n",
    "x = pd.get_dummies(x, drop_first = True)"
   ]
  },
  {
   "cell_type": "markdown",
   "metadata": {},
   "source": [
    "<b>Partition the data into train and test set</b>"
   ]
  },
  {
   "cell_type": "code",
   "execution_count": 214,
   "metadata": {},
   "outputs": [],
   "source": [
    "# Split into training and testing data\n",
    "# Using 30% of data for testing as this is the standard\n",
    "x_train, x_test, y_train, y_test = train_test_split(x, y, test_size = 0.3, random_state = 1, shuffle = True)"
   ]
  },
  {
   "cell_type": "code",
   "execution_count": 215,
   "metadata": {},
   "outputs": [
    {
     "name": "stdout",
     "output_type": "stream",
     "text": [
      "Training dataset: (4172, 16)\n",
      "Testing dataset: (1788, 16)\n"
     ]
    }
   ],
   "source": [
    "# Make sure data remains the correct size, together [4612 rows x 16 columns]\n",
    "print(\"Training dataset:\", x_train.shape)\n",
    "print(\"Testing dataset:\", x_test.shape)"
   ]
  },
  {
   "cell_type": "code",
   "execution_count": 216,
   "metadata": {},
   "outputs": [],
   "source": [
    "# Confusion matrix and classification report function\n",
    "def metrics_score(actual, predicted):\n",
    "    # Print classification report: precision, recall, f1-score, support\n",
    "    print(classification_report(actual, predicted))\n",
    "\n",
    "    # Create confusion matrix variable\n",
    "    cm = confusion_matrix(actual, predicted)\n",
    "\n",
    "    # Set plot size\n",
    "    plt.figure(figsize = (8, 5))\n",
    "\n",
    "    # Create a heatmap for the confusion matrix\n",
    "    sns.heatmap(cm, annot = True,  fmt = '.2f', xticklabels = ['Loan repaid', 'Loan defaulted'], yticklabels = ['Loan repaid', 'Loan defaulted'])\n",
    "    \n",
    "    # Label axes\n",
    "    plt.ylabel('Actual')\n",
    "    plt.xlabel('Predicted')\n",
    "    plt.show()"
   ]
  },
  {
   "cell_type": "markdown",
   "metadata": {
    "id": "2CGW7uh5BZtk"
   },
   "source": [
    "### Logistic Regression"
   ]
  },
  {
   "cell_type": "code",
   "execution_count": 217,
   "metadata": {
    "id": "fs0QKb4ABZtk"
   },
   "outputs": [
    {
     "data": {
      "text/plain": [
       "LogisticRegression(random_state=1)"
      ]
     },
     "execution_count": 217,
     "metadata": {},
     "output_type": "execute_result"
    }
   ],
   "source": [
    "# Build a logistic regression model\n",
    "lr = LogisticRegression(random_state=1)\n",
    "# Fit the model on training data\n",
    "lr.fit(x_train, y_train)"
   ]
  },
  {
   "cell_type": "code",
   "execution_count": 218,
   "metadata": {},
   "outputs": [],
   "source": [
    "# Checking performance on the training data\n",
    "pred_y_train = lr.predict(x_train)"
   ]
  },
  {
   "cell_type": "code",
   "execution_count": 219,
   "metadata": {},
   "outputs": [
    {
     "name": "stdout",
     "output_type": "stream",
     "text": [
      "              precision    recall  f1-score   support\n",
      "\n",
      "           0       0.91      0.92      0.91      1416\n",
      "           1       0.68      0.66      0.67       372\n",
      "\n",
      "    accuracy                           0.86      1788\n",
      "   macro avg       0.79      0.79      0.79      1788\n",
      "weighted avg       0.86      0.86      0.86      1788\n",
      "\n"
     ]
    },
    {
     "data": {
      "image/png": "[encoded data removed]",
      "text/plain": [
       "<Figure size 576x360 with 2 Axes>"
      ]
     },
     "metadata": {
      "needs_background": "light"
     },
     "output_type": "display_data"
    }
   ],
   "source": [
    "# Checking performance on the test data\n",
    "pred_y_test = dt.predict(x_test)\n",
    "metrics_score(y_test, pred_y_test)"
   ]
  },
  {
   "cell_type": "markdown",
   "metadata": {},
   "source": [
    "<b>Observations:</b>\n",
    "- The accuracy of this model is 86%.\n",
    "- For loan repaid, precision, recall, and f1-score are all high, 91%, 92%, and 91% respectively.\n",
    "- For loan defaulted, precision, recall, and f1-score were not as high, 68%, 66%, and 67% respectively.\n",
    "- This indicates an imbalance in the weights between defaulted and repaid loans. Repaid loans are the majority.\n",
    "- Noticible overfitting."
   ]
  },
  {
   "cell_type": "markdown",
   "metadata": {
    "id": "9oYAeptGBZtk"
   },
   "source": [
    "### Decision Tree"
   ]
  },
  {
   "cell_type": "code",
   "execution_count": 220,
   "metadata": {
    "id": "nfvaEVqsBZtk"
   },
   "outputs": [
    {
     "data": {
      "text/plain": [
       "DecisionTreeClassifier(random_state=1)"
      ]
     },
     "execution_count": 220,
     "metadata": {},
     "output_type": "execute_result"
    }
   ],
   "source": [
    "# Build a decision tree classifier\n",
    "dt = DecisionTreeClassifier(random_state = 1)\n",
    "# Fit the classifier on training data\n",
    "dt.fit(x_train, y_train)"
   ]
  },
  {
   "cell_type": "code",
   "execution_count": 221,
   "metadata": {},
   "outputs": [
    {
     "name": "stdout",
     "output_type": "stream",
     "text": [
      "              precision    recall  f1-score   support\n",
      "\n",
      "           0       1.00      1.00      1.00      3355\n",
      "           1       1.00      1.00      1.00       817\n",
      "\n",
      "    accuracy                           1.00      4172\n",
      "   macro avg       1.00      1.00      1.00      4172\n",
      "weighted avg       1.00      1.00      1.00      4172\n",
      "\n"
     ]
    },
    {
     "data": {
      "image/png": "[encoded data removed]",
      "text/plain": [
       "<Figure size 576x360 with 2 Axes>"
      ]
     },
     "metadata": {
      "needs_background": "light"
     },
     "output_type": "display_data"
    }
   ],
   "source": [
    "# Checking performance on the training data\n",
    "pred_y_train = dt.predict(x_train)\n",
    "metrics_score(y_train, pred_y_train)"
   ]
  },
  {
   "cell_type": "markdown",
   "metadata": {},
   "source": [
    "<b>Observations:</b>\n",
    "- The accuracy and other parameters are all 100%, which means that it is perfect.\n",
    "- These insights are a bit concerning, there might be a risk of model overfitting."
   ]
  },
  {
   "cell_type": "code",
   "execution_count": 222,
   "metadata": {},
   "outputs": [
    {
     "name": "stdout",
     "output_type": "stream",
     "text": [
      "              precision    recall  f1-score   support\n",
      "\n",
      "           0       0.91      0.92      0.91      1416\n",
      "           1       0.68      0.66      0.67       372\n",
      "\n",
      "    accuracy                           0.86      1788\n",
      "   macro avg       0.79      0.79      0.79      1788\n",
      "weighted avg       0.86      0.86      0.86      1788\n",
      "\n"
     ]
    },
    {
     "data": {
      "image/png": "[encoded data removed]",
      "text/plain": [
       "<Figure size 576x360 with 2 Axes>"
      ]
     },
     "metadata": {
      "needs_background": "light"
     },
     "output_type": "display_data"
    }
   ],
   "source": [
    "# Checking performance on the test data\n",
    "pred_y_test = dt.predict(x_test)\n",
    "metrics_score(y_test, pred_y_test)"
   ]
  },
  {
   "cell_type": "markdown",
   "metadata": {},
   "source": [
    "<b>Observations:</b>\n",
    "- The accuracy of this model is 86%.\n",
    "- For loan repaid, precision, recall, and f1-score are all high, 91%, 92% and 91% respectively.\n",
    "- For loan defaulted, precision, recall and f1-score were not as high, 68%, 66% and 67% respectively.\n",
    "- This indicates an imbalance in the weights between defaulted and repaid loans. Repaid loans are the majority.\n",
    "- Need to fix overfitting."
   ]
  },
  {
   "cell_type": "markdown",
   "metadata": {
    "id": "HdO4E2btpoPD"
   },
   "source": [
    "### **Decision Tree - Hyperparameter Tuning**"
   ]
  },
  {
   "cell_type": "code",
   "execution_count": 223,
   "metadata": {},
   "outputs": [
    {
     "data": {
      "text/plain": [
       "DecisionTreeClassifier(class_weight={0: 0.2, 1: 0.8}, criterion='entropy',\n",
       "                       max_depth=9, min_samples_leaf=8, random_state=1)"
      ]
     },
     "execution_count": 223,
     "metadata": {},
     "output_type": "execute_result"
    }
   ],
   "source": [
    "# Hyperparameter tuning\n",
    "tuned_dt = DecisionTreeClassifier(class_weight = {0: 0.20, 1: 0.80}, random_state = 1)\n",
    "\n",
    "parameters = {\n",
    "    'max_depth': np.arange(2,20),\n",
    "    'min_samples_leaf': np.arange(5,10),\n",
    "    'criterion': ['gini', 'entropy']\n",
    "}\n",
    "\n",
    "# Use recall to catch all defaulters\n",
    "scorer = metrics.make_scorer(recall_score, pos_label = 1)\n",
    "\n",
    "# Perform grid search\n",
    "grid_obj = GridSearchCV(tuned_dt, parameters, scoring = scorer, cv = 5)\n",
    "grid_obj = grid_obj.fit(x_train, y_train)\n",
    "\n",
    "# Classifier is set to the best combination of parameters\n",
    "tuned_dt = grid_obj.best_estimator_\n",
    "\n",
    "# Best algorithm fit to the data\n",
    "tuned_dt.fit(x_train, y_train)"
   ]
  },
  {
   "cell_type": "code",
   "execution_count": 224,
   "metadata": {},
   "outputs": [
    {
     "name": "stdout",
     "output_type": "stream",
     "text": [
      "              precision    recall  f1-score   support\n",
      "\n",
      "           0       0.97      0.87      0.92      3355\n",
      "           1       0.63      0.89      0.74       817\n",
      "\n",
      "    accuracy                           0.87      4172\n",
      "   macro avg       0.80      0.88      0.83      4172\n",
      "weighted avg       0.90      0.87      0.88      4172\n",
      "\n"
     ]
    },
    {
     "data": {
      "image/png": "[encoded data removed]",
      "text/plain": [
       "<Figure size 576x360 with 2 Axes>"
      ]
     },
     "metadata": {
      "needs_background": "light"
     },
     "output_type": "display_data"
    }
   ],
   "source": [
    "# Checking performance on the training data\n",
    "pred_y_train_tuned = tuned_dt.predict(x_train)\n",
    "metrics_score(y_train, pred_y_train_tuned)"
   ]
  },
  {
   "cell_type": "markdown",
   "metadata": {},
   "source": [
    "<b>Observations:</b>\n",
    "- After performing hyperparameter tuning, the accuracy of training data has decreased by 13%.\n",
    "- This is because we reduced the complexity of the tree by setting max_depth to 9.\n",
    "- Since we reduced overfitting, the accuracy also decreased on a training set."
   ]
  },
  {
   "cell_type": "code",
   "execution_count": 225,
   "metadata": {},
   "outputs": [
    {
     "name": "stdout",
     "output_type": "stream",
     "text": [
      "              precision    recall  f1-score   support\n",
      "\n",
      "           0       0.93      0.85      0.89      1416\n",
      "           1       0.58      0.76      0.66       372\n",
      "\n",
      "    accuracy                           0.83      1788\n",
      "   macro avg       0.75      0.81      0.77      1788\n",
      "weighted avg       0.86      0.83      0.84      1788\n",
      "\n"
     ]
    },
    {
     "data": {
      "image/png": "[encoded data removed]",
      "text/plain": [
       "<Figure size 576x360 with 2 Axes>"
      ]
     },
     "metadata": {
      "needs_background": "light"
     },
     "output_type": "display_data"
    }
   ],
   "source": [
    "# Checking performance on the test data\n",
    "pred_y_test_tuned = tuned_dt.predict(x_test)\n",
    "metrics_score(y_test, pred_y_test_tuned)"
   ]
  },
  {
   "cell_type": "markdown",
   "metadata": {},
   "source": [
    "<b>Observations:</b>\n",
    "- The accuracy has decreased by 3% compared to the previous Decision Tree model.\n",
    "- The recall for loan defaults has increased by 10% compared to the previous model. The precision has decreased by 10%.\n",
    "- The recall on the loan repaid has decreased by 7%. The precision has increased by 2%.\n",
    "- For our solution, we are focusing on finding applicants who will default on loans. We do not mind sacrificing some false positives where someone might have been able to repay the loan but was not identified as such."
   ]
  },
  {
   "cell_type": "code",
   "execution_count": 226,
   "metadata": {},
   "outputs": [
    {
     "data": {
      "image/png": "[encoded data removed]",
      "text/plain": [
       "<Figure size 720x720 with 1 Axes>"
      ]
     },
     "metadata": {
      "needs_background": "light"
     },
     "output_type": "display_data"
    }
   ],
   "source": [
    "# Checking feature importance\n",
    "importances = tuned_dt.feature_importances_\n",
    "indices = np.argsort(importances)\n",
    "\n",
    "names = list(x.columns)\n",
    "\n",
    "plt.figure(figsize = (10, 10))\n",
    "plt.barh(range(len(indices)), importances[indices])\n",
    "\n",
    "plt.yticks(range(len(indices)), [names[i] for i in indices])\n",
    "plt.xlabel('Relative Importance')\n",
    "plt.show()"
   ]
  },
  {
   "cell_type": "markdown",
   "metadata": {},
   "source": [
    "<b>Observations:</b>\n",
    "- The features importance bar plot indicates the most important features that determine if the applicant will default on a loan or not.\n",
    "- By far the most important feature identified is the debt-to-income ratio.\n",
    "- It is followed by the number of delinquent credit lines, the age of the oldest credit inquiries, and the number of major derogatory reports (indicates very serious delinquency). These three all indicate negligence towards repaying loans.\n",
    "- Then less important features follow such as years at present job, number of existing credit lines, if the reason for loan was a home improvement, and number of recent credit inquiries.\n",
    "- Least important feature is the type of job a person has."
   ]
  },
  {
   "cell_type": "markdown",
   "metadata": {
    "id": "g4x88goTBZtk"
   },
   "source": [
    "### **Building a Random Forest Classifier**"
   ]
  },
  {
   "cell_type": "code",
   "execution_count": 227,
   "metadata": {
    "id": "64OtDSUSqbcD"
   },
   "outputs": [
    {
     "data": {
      "text/plain": [
       "RandomForestClassifier(random_state=1)"
      ]
     },
     "execution_count": 227,
     "metadata": {},
     "output_type": "execute_result"
    }
   ],
   "source": [
    "# Build a random forest tree classifier\n",
    "rf = RandomForestClassifier(random_state = 1)\n",
    "# Fit the classifier on training data\n",
    "rf.fit(x_train,y_train)"
   ]
  },
  {
   "cell_type": "code",
   "execution_count": 228,
   "metadata": {},
   "outputs": [
    {
     "name": "stdout",
     "output_type": "stream",
     "text": [
      "              precision    recall  f1-score   support\n",
      "\n",
      "           0       1.00      1.00      1.00      3355\n",
      "           1       1.00      1.00      1.00       817\n",
      "\n",
      "    accuracy                           1.00      4172\n",
      "   macro avg       1.00      1.00      1.00      4172\n",
      "weighted avg       1.00      1.00      1.00      4172\n",
      "\n"
     ]
    },
    {
     "data": {
      "image/png": "[encoded data removed]",
      "text/plain": [
       "<Figure size 576x360 with 2 Axes>"
      ]
     },
     "metadata": {
      "needs_background": "light"
     },
     "output_type": "display_data"
    }
   ],
   "source": [
    "# Checking performance on the train data\n",
    "pred_y_train = rf.predict(x_train)\n",
    "metrics_score(y_train, pred_y_train)"
   ]
  },
  {
   "cell_type": "markdown",
   "metadata": {},
   "source": [
    "<b>Observations:</b>\n",
    "- The accuracy and all of the other parameters are 100%, which means that it is perfect.\n",
    "- These insights are a bit concerning, there might be a risk of model overfitting."
   ]
  },
  {
   "cell_type": "code",
   "execution_count": 229,
   "metadata": {},
   "outputs": [
    {
     "name": "stdout",
     "output_type": "stream",
     "text": [
      "              precision    recall  f1-score   support\n",
      "\n",
      "           0       0.92      0.98      0.95      1416\n",
      "           1       0.92      0.67      0.77       372\n",
      "\n",
      "    accuracy                           0.92      1788\n",
      "   macro avg       0.92      0.83      0.86      1788\n",
      "weighted avg       0.92      0.92      0.91      1788\n",
      "\n"
     ]
    },
    {
     "data": {
      "image/png": "[encoded data removed]",
      "text/plain": [
       "<Figure size 576x360 with 2 Axes>"
      ]
     },
     "metadata": {
      "needs_background": "light"
     },
     "output_type": "display_data"
    }
   ],
   "source": [
    "# Checking performance on the test data\n",
    "pred_y_test = rf.predict(x_test)\n",
    "metrics_score(y_test, pred_y_test)"
   ]
  },
  {
   "cell_type": "markdown",
   "metadata": {},
   "source": [
    "<b>Observations:</b>\n",
    "- Overall accuracy is 92%. This is higher than both Decision Tree models (tuned and not).\n",
    "- For loan repaid, precision, recall and f1-score are all high, 92%, 98% and 95% respectively.\n",
    "- For loan defaulted, precision, recall and f1-score were not as high, 92%, 67% and 77% respectively.\n",
    "- For loan defaulted, the precision is a lot higher than recall which indicates fewer false positives, but also missing some true positives. We want to focus on the opposite. We need to increase recall even if precision suffers a bit.\n",
    "- The f1-score was higher for oan repaid than loan defaulted, this means the model better identifies customers who repay loans but in our case it is more important to identify customers who default on loans.\n",
    "- Need to fix overfitting."
   ]
  },
  {
   "cell_type": "markdown",
   "metadata": {
    "id": "HAx1Ooocp72i"
   },
   "source": [
    "### **Random Forest Classifier Hyperparameter Tuning**"
   ]
  },
  {
   "cell_type": "code",
   "execution_count": 230,
   "metadata": {
    "id": "9UQIxCZcqJHa"
   },
   "outputs": [
    {
     "data": {
      "text/plain": [
       "RandomForestClassifier(class_weight={0: 0.2, 1: 0.8}, criterion='entropy',\n",
       "                       max_depth=5, max_features=0.8, n_estimators=110,\n",
       "                       random_state=1)"
      ]
     },
     "execution_count": 230,
     "metadata": {},
     "output_type": "execute_result"
    }
   ],
   "source": [
    "tuned_rf = RandomForestClassifier(class_weight = {0: 0.20, 1: 0.80}, random_state = 1, criterion = 'entropy')\n",
    "\n",
    "parameters = {\n",
    "    'max_depth': [5, 10, 15, 20],\n",
    "    'n_estimators': [100, 110],\n",
    "    'max_features': [None, 0.8, 1]\n",
    "}\n",
    "\n",
    "# Use recall to catch all defaulters\n",
    "scorer = metrics.make_scorer(recall_score, pos_label = 1)\n",
    "\n",
    "# Perform grid search\n",
    "grid_obj = GridSearchCV(tuned_rf, parameters, scoring = scorer, cv = 5)\n",
    "grid_obj = grid_obj.fit(x_train, y_train)\n",
    "\n",
    "# Classifier is set to the best combination of parameters\n",
    "tuned_rf = grid_obj.best_estimator_\n",
    "\n",
    "# Best algorithm fit to the data\n",
    "tuned_rf.fit(x_train, y_train)"
   ]
  },
  {
   "cell_type": "code",
   "execution_count": 231,
   "metadata": {},
   "outputs": [
    {
     "name": "stdout",
     "output_type": "stream",
     "text": [
      "              precision    recall  f1-score   support\n",
      "\n",
      "           0       0.95      0.89      0.92      3355\n",
      "           1       0.65      0.81      0.72       817\n",
      "\n",
      "    accuracy                           0.88      4172\n",
      "   macro avg       0.80      0.85      0.82      4172\n",
      "weighted avg       0.89      0.88      0.88      4172\n",
      "\n"
     ]
    },
    {
     "data": {
      "image/png": "[encoded data removed]",
      "text/plain": [
       "<Figure size 576x360 with 2 Axes>"
      ]
     },
     "metadata": {
      "needs_background": "light"
     },
     "output_type": "display_data"
    }
   ],
   "source": [
    "# Checking performance on the training data\n",
    "pred_y_train_tuned = tuned_rf.predict(x_train)\n",
    "metrics_score(y_train, pred_y_train_tuned)"
   ]
  },
  {
   "cell_type": "markdown",
   "metadata": {},
   "source": [
    "<b>Observations:</b>\n",
    "- After performing hyperparameter tuning, the accuracy of training data has decreased by 12%.\n",
    "- This is because we reduced the complexity of the tree by setting max_depth to 5.\n",
    "- Since we reduced overfitting, the accuracy also decreased on a training set."
   ]
  },
  {
   "cell_type": "code",
   "execution_count": 232,
   "metadata": {},
   "outputs": [
    {
     "name": "stdout",
     "output_type": "stream",
     "text": [
      "              precision    recall  f1-score   support\n",
      "\n",
      "           0       0.93      0.90      0.91      1416\n",
      "           1       0.65      0.74      0.69       372\n",
      "\n",
      "    accuracy                           0.86      1788\n",
      "   macro avg       0.79      0.82      0.80      1788\n",
      "weighted avg       0.87      0.86      0.87      1788\n",
      "\n"
     ]
    },
    {
     "data": {
      "image/png": "[encoded data removed]",
      "text/plain": [
       "<Figure size 576x360 with 2 Axes>"
      ]
     },
     "metadata": {
      "needs_background": "light"
     },
     "output_type": "display_data"
    }
   ],
   "source": [
    "# Checking performance on the test data\n",
    "pred_y_test_tuned = tuned_rf.predict(x_test)\n",
    "metrics_score(y_test, pred_y_test_tuned)"
   ]
  },
  {
   "cell_type": "markdown",
   "metadata": {},
   "source": [
    "<b>Observations:</b>\n",
    "- The accuracy has decreased by 6% compared to the previous Random Forest model.\n",
    "- The recall for loan defaults has increased by 7% compared to the previous model. However, the precision has decreased by a major 27%.\n",
    "- The recall on the loan repaid has decreased by 8%. The precision has decreased by 1%.\n",
    "- Overall, hyper tuning random forest model only increased the recall for loan defaults by 7% and decreased the accuracy of all of the other parameters.\n",
    "- Since precision for loan defaults dropped significantly, it might not be advisable to use this model as too many potential customers could be lost even if recall did improve slightly."
   ]
  },
  {
   "cell_type": "code",
   "execution_count": 233,
   "metadata": {},
   "outputs": [
    {
     "data": {
      "image/png": "[encoded data removed]",
      "text/plain": [
       "<Figure size 720x720 with 1 Axes>"
      ]
     },
     "metadata": {
      "needs_background": "light"
     },
     "output_type": "display_data"
    }
   ],
   "source": [
    "# Checking feature importance\n",
    "importances = tuned_rf.feature_importances_\n",
    "indices = np.argsort(importances)\n",
    "\n",
    "names = list(x.columns)\n",
    "\n",
    "plt.figure(figsize = (10, 10))\n",
    "plt.barh(range(len(indices)), importances[indices])\n",
    "\n",
    "plt.yticks(range(len(indices)), [names[i] for i in indices])\n",
    "plt.xlabel('Relative Importance')\n",
    "plt.show()"
   ]
  },
  {
   "cell_type": "markdown",
   "metadata": {},
   "source": [
    "<b>Observations:</b>\n",
    "- The features importance bar plot indicates the most important features that determine if the applicant will default on a loan or not.\n",
    "- By far the most important feature identified is the debt-to-income ratio.\n",
    "- It is followed by the the age of the oldest credit lines, and the number of delinquent lines. These both indicate negligence towards repaying loans.\n",
    "- Then in descending order, there is the amount of loans approved, mortgage amount, the number of existing credit lines, current value of the property, and years at the present job respectively.\n",
    "- The least important feature is the type of job a person has."
   ]
  },
  {
   "cell_type": "markdown",
   "metadata": {
    "id": "kPywjJo6uS-9"
   },
   "source": [
    "**1. Comparison of various techniques and their relative performance based on chosen Metric (Measure of success):** "
   ]
  },
  {
   "cell_type": "markdown",
   "metadata": {},
   "source": [
    "- Logistic Regression:  precision    recall  f1-score   support\n",
    "\n",
    "           0       0.91      0.92      0.91      1416\n",
    "           1       0.68      0.66      0.67       372\n",
    "- Decision Tree:  precision    recall  f1-score   support\n",
    "\n",
    "           0       0.91      0.92      0.91      1416\n",
    "           1       0.68      0.66      0.67       372\n",
    "- Decision Tree Tuned:  precision    recall  f1-score   support\n",
    "\n",
    "           0       0.93      0.85      0.89      1416\n",
    "           1       0.58      0.76      0.66       372\n",
    "- Random Forest:  precision    recall  f1-score   support\n",
    "\n",
    "           0       0.92      0.98      0.95      1416\n",
    "           1       0.92      0.67      0.77       372\n",
    "- Random Forest Tuned:  precision    recall  f1-score   support\n",
    "\n",
    "           0       0.93      0.90      0.91      1416\n",
    "           1       0.65      0.74      0.69       372\n",
    "- The worst recall for loan defaults is with logistic regression and decision tree predictive models.\n",
    "- The technique that performs best in terms of loan default recall is the decision tree tuned prediction model.\n",
    "- The performance could potentially be further improved by pruning the tree."
   ]
  },
  {
   "cell_type": "markdown",
   "metadata": {
    "id": "5mtOvTtEY7sM"
   },
   "source": [
    "**2. Refined insights:** \n",
    "- The number of rows in the database is 5960 and the number of columns is 13.\n",
    "-\tThere are 11 numerical columns (9 floats, 2 integers)\n",
    "-\tThere are 2 object type columns\n",
    "-\tAll columns have missing values except from BAD and LOAN columns\n",
    "-\tDEBTINC has the most missing values, 1267 of them.\n",
    "-\tNo duplicates were found in the data frame\n",
    "-\tBAD, REASON, and JOB are categorical values.\n",
    "-\tLOAD, MORTDUE, VALUE, YOJ, DEROG, DELINQ, CLAGE, NINQ, CLNO, and DEBTINC are continuous variables.\n",
    "-\tThere are no columns that should be dropped because none of them have 5960 unique vastribution.\n",
    "-\t80% of applicants repaid their loans. 20% defaulted on their loans, that is only 1/5 of all applicants.\n",
    "-\t69% of applicants requested a loan for debt consolidation, 31% requested a loan for home improvement.\n",
    "-\tAlmost half (42%) of all applicants work in other sectors than the ones listed. 22% work as professional executives, 17% work at offices, 14% work in migration, 3% are self-employed and 2% of all applicants are in sales.\n",
    "-\tMost applicants take out loans worth about $16000 judging from the histogram.\n",
    "-\tMost applicants (850) have little to no work experience, up to a year at their present job.\n",
    "-\tThere are two categories when choosing the reason for a loan, home improvement or debt consolidation.\n",
    "-\t4000 applicants took out the loan for debt consolidation, which is two times more than 1800 of applicants who took out the loan for home improvement.\n",
    "-\tThere are 6 job categories for applicants: Self, professional executive, migration, sales, office and other.\n",
    "-\tMost applicants (2400) have other occupations, that is two times more than the next most popular job which is professional executive with 1400 people. It is followed by office, migration, self employed and sales in descending order.\n",
    "-\tA higher percentage of people, about 25% defaulted on loans when the reason for their loan was home improvement compared to those whose reasons were debt consolidation (20%).\n",
    "-\tThis could be caused by unexpected expenses that arise when doing home improvements or because it is likely that people who took out loans to repay their other liabilities, took out other loans to repay this one.\n",
    "-\tThere is no significant difference in loan amount between people who repay the loan and those who default.\n",
    "-\tOn average, those who repay their loans have properties of higher value, over 100000 USD.\n",
    "-\tThere is a slight negative correlation between property value and loan repayment.\n",
    "-\tThose who default have on average lower amount of mortgage, about 65000 USD, than those who repay their loan, about an average of 75000 USD.\n",
    "-\tThis might be because they use up all of their loan to repay their mortgage and then are unable to repay the loan.\n",
    "-\tThere is a strong positive correlation between the value of the property and the amount due on the existing mortgage. This makes sense because if the property is more expensive, the mortgage is going to be bigger.\n",
    "\n",
    "- By far the most important feature identified is the debt-to-income ratio."
   ]
  },
  {
   "cell_type": "markdown",
   "metadata": {
    "id": "HNJHd0R7Y7sM"
   },
   "source": [
    "**3. Proposal for the final solution design:** "
   ]
  },
  {
   "cell_type": "markdown",
   "metadata": {},
   "source": [
    "For the final design, I would suggest adopting a model where recall is prioritized. I think we should focus on recall because we want to predict defaulters accurately even if it means missing some potential applicants who would have repaid their loans and classifying them as defaulters. Based on these criteria, I would propose to adopt a tuned decision tree model. It has the highest recall for loan defaults, 76%. The model is good enough for deployment in production."
   ]
  },
  {
   "cell_type": "markdown",
   "metadata": {},
   "source": [
    "## **Problem and solution summary**\n",
    "\n",
    "<b> Problem: </b>\n",
    "Loan defaults pose a serious risk to banks, and identifying the applicants most likely to fail is vital to minimising losses. The dataset contains loan application data, and the goal is to build a model that predicts whether an applicant will default.\n",
    "\n",
    "<b> Solution: </b>\n",
    "To understand the dataset, I first overviewed the data. I checked the dimensions of the dataset, variable types, missing values, unique values and duplicates. After, I performed univariate, bivariate, and multivariate analyses to visualise the data. This enabled me to investigate and understand the data better before building a model with it.\n",
    "\n",
    "Following the visualisations, I performed data preprocessing. I detected outliers and treated them accordingly. Since there were no missing values, I did not treat them. Data preprocessing allowed me to prepare data for modelling.\n",
    "\n",
    "I split testing and training data into 30% and 70% respectively. I created a logistic regression model, a decision tree model, a tuned decision tree model, a random forest model and a tuned random forest model.\n",
    "\n",
    "When investigating logistic regression model performance I observed that the model's accuracy was only 86%. For loan repaid, precision, recall, and f1-score were all high, 91%, 92%, and 91% respectively. For loan defaulted, precision, recall, and f1-score were not as high, 68%, 66%, and 67% respectively. This indicates an imbalance in the weights between defaulted and repaid loans. Repaid loans are the majority. There is noticeable overfitting.\n",
    "\n",
    "After investigating a decision tree model performance I observed that the model's accuracy was only 86%. For loan repaid, precision, recall, and f1-score are all high, 91%, 92% and 91% respectively. For loan defaulted, precision, recall and f1-score were not as high, 68%, 66% and 67% respectively. This indicates an imbalance in the weights between defaulted and repaid loans. Repaid loans are the majority. We need to fix overfitting. To improve the model I performed hyperparameter tuning using GridSearchCV. The accuracy has decreased by 3% compared to the previous Decision Tree model. The recall for loan defaults has increased by 10% compared to the previous model. The precision has decreased by 10%. The recall on the loan repaid has decreased by 7%. The precision has increased by 2%. For our solution, we are focusing on finding applicants who will default on loans. We do not mind sacrificing some false positives where someone might have been able to repay the loan but was not identified as such.\n",
    "\n",
    "Additionally, I built a random forest model. The accuracy of this model was higher compared to both decision tree models (tuned and not), it was 92%. However, this model was also overfitting and the loan defaulted recall was only 67%, this is our biggest concern. To improve this model I performed hyperparameter tuning using GridSearchCV too. After tuning, the recall has increased by 7% compared to the basic random forest model. The accuracy has decreased by 6% compared to the previous random forest model. The recall for loan defaults has increased by 7% compared to the previous model. However, the precision has decreased by a major 27%. The recall on the loan repaid has decreased by 8%. The precision has decreased by 1%. Overall, hyper tuning random forest model only increased the recall for loan defaults by 7% and decreased the accuracy of all of the other parameters. Since precision for loan defaults dropped significantly, it might not be advisable to use this model as too many potential customers could be lost even if recall did improve slightly.\n",
    "\n",
    "<b> Final solution: </b>\n",
    "The choice to concentrate on recall guarantees that the bank finds the majority of defaulters, which is essential for reducing risk. This strategy guarantees that few defaulters avoid detection despite a reduction in accuracy, which is consistent with the bank's aim to reduce losses. A tuned decision tree classifier prioritises recall the most compared to the other models. The model's emphasis on maximising recall can assist the bank in minimising the amount of loan defaults that go unnoticed, thus preventing the most expensive situations. This approach will lower financial losses and enhance loan-issuing decision-making, allowing the bank to manage its collection of loans more effectively."
   ]
  },
  {
   "cell_type": "markdown",
   "metadata": {},
   "source": [
    "## **Recommendations for implementation**\n",
    "Implement the tuned Decision Tree model in a production environment. Make sure the model can process real-time loan application data as well as large datasets. Furthermore, to maintain performance and fix the class imbalance, train the model on updated data regularly. The bank is expected to incur charges for retraining, maintenance, and updates to its IT infrastructure as part of the hypothetical \\\\$100,000–$150,000 deployment of the model.\n",
    "\n",
    "Based on our analysis, 80% of applicants repaid their loans. 20% defaulted on their loans, which is only 1/5 of all applicants, so there is a class imbalance. If we collect more data on new customers, we could potentially reduce the class imbalance leading to even more accurate results. Since 20% of applicants default on loans and the tuned decision tree model captures 76% of them, our model can help avoid approximately 15.2% of potential loan losses annually. If the bank typically issues \\\\$100 million in loans per year, the potential savings from fewer defaults could range from \\\\$10-15 million per year, assuming an average loan size of \\\\$10,000.\n",
    "\n",
    "69% of applicants requested a loan for debt consolidation, and 31% requested a loan for home improvement. The loan purpose is an important feature and plays a significant role in default risk and should not be overlooked. The bank should focus on higher-risk applicants in the debt consolidation category and adjust loan terms accordingly.\n",
    "\n",
    "There is a strong positive correlation between the value of the property and the amount due on the existing mortgage, but defaulters tend to have lower mortgage amounts. This could potentially be indicating over-leveraging by the applicants. This finding should inform risk-based pricing strategies, allowing the bank to adjust interest rates or request collateral based on the applicant's mortgage and property values.\n",
    "\n",
    "Job categories and work experience in years are applicant profiles that provide insights into financial stability and repayment likelihood, this is additional data that should be collected.\n",
    "\n",
    "The features importance bar plot indicates the most important features that determine if the applicant will default on a loan or not. By far the most important feature identified is the debt-to-income ratio. It is followed by the number of delinquent credit lines, the age of the oldest credit inquiries, and the number of major derogatory reports (indicates very serious delinquency). These three all indicate negligence towards repaying loans. Then less important features follow such as years at present job, number of existing credit lines, if the reason for loan was a home improvement, and number of recent credit inquiries. The least important feature is the type of job a person has. Based on this bar plot, the bank should put more focus on the debt-to-income ratio as this was indicated as the most important feature. Maybe if more information in this category was collected, the accuracy of our model could be improved as well, making predictions more accurate overall with fewer financial losses.\n",
    "\n",
    "Costs associated with this solution include model implementation costs, data maintenance costs and maybe losing some potential low-risk customers because we are focusing on finding all users who default. The risks associated with this solution are overfitting, most models were overfitting before hyperparameter tuning, this could happen in the future if not enough data is collected or it is very imbalanced. The model also must comply with banking regulations like the Equal Credit Opportunity Act to ensure that it does not introduce bias or unfairly discriminate against certain applicant groups. This would have to be tested before production. The data needs to be updated regularly to make sure the model is accurate and conforms to the current norms and demands.\n",
    "\n",
    "Further analysis could be performed to reveal how new and old features interact with each other after the solution has been deployed and some time has passed. The most important feature might change with time or some insignificant features might become more significant so it is vital to understand how those features interact. Additionally, since there is a strong class imbalance, as more data gets collected it should be closely monitored."
   ]
  }
 ],
 "metadata": {
  "colab": {
   "provenance": []
  },
  "hide_input": false,
  "kernelspec": {
   "display_name": "Python 3",
   "language": "python",
   "name": "python3"
  },
  "language_info": {
   "codemirror_mode": {
    "name": "ipython",
    "version": 3
   },
   "file_extension": ".py",
   "mimetype": "text/x-python",
   "name": "python",
   "nbconvert_exporter": "python",
   "pygments_lexer": "ipython3",
   "version": "3.8.8"
  },
  "latex_envs": {
   "LaTeX_envs_menu_present": true,
   "autoclose": false,
   "autocomplete": true,
   "bibliofile": "biblio.bib",
   "cite_by": "apalike",
   "current_citInitial": 1,
   "eqLabelWithNumbers": true,
   "eqNumInitial": 1,
   "hotkeys": {
    "equation": "Ctrl-E",
    "itemize": "Ctrl-I"
   },
   "labels_anchors": false,
   "latex_user_defs": false,
   "report_style_numbering": false,
   "user_envs_cfg": false
  },
  "toc": {
   "base_numbering": 1,
   "nav_menu": {},
   "number_sections": true,
   "sideBar": true,
   "skip_h1_title": false,
   "title_cell": "Table of Contents",
   "title_sidebar": "Contents",
   "toc_cell": false,
   "toc_position": {},
   "toc_section_display": true,
   "toc_window_display": false
  },
  "varInspector": {
   "cols": {
    "lenName": 16,
    "lenType": 16,
    "lenVar": 40
   },
   "kernels_config": {
    "python": {
     "delete_cmd_postfix": "",
     "delete_cmd_prefix": "del ",
     "library": "var_list.py",
     "varRefreshCmd": "print(var_dic_list())"
    },
    "r": {
     "delete_cmd_postfix": ") ",
     "delete_cmd_prefix": "rm(",
     "library": "var_list.r",
     "varRefreshCmd": "cat(var_dic_list()) "
    }
   },
   "types_to_exclude": [
    "module",
    "function",
    "builtin_function_or_method",
    "instance",
    "_Feature"
   ],
   "window_display": false
  }
 },
 "nbformat": 4,
 "nbformat_minor": 4
}
